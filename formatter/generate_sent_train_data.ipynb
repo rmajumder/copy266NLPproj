{
 "cells": [
  {
   "cell_type": "code",
   "execution_count": 11,
   "metadata": {},
   "outputs": [],
   "source": [
    "import json\n",
    "import os\n",
    "import glob\n",
    "import re\n",
    "import pandas as pd\n",
    "from os import makedirs\n",
    "from os.path import join, exists\n",
    "from datetime import date, timedelta\n",
    "from pathlib import Path"
   ]
  },
  {
   "cell_type": "code",
   "execution_count": 12,
   "metadata": {},
   "outputs": [],
   "source": [
    "def get_election_data(path):\n",
    "    df = pd.read_csv(path, lineterminator='\\n')\n",
    "    text_data = df['text'].to_list()\n",
    "    dt_data = df['created_at'].to_list()\n",
    "    \n",
    "    return text_data, dt_data"
   ]
  },
  {
   "cell_type": "code",
   "execution_count": 13,
   "metadata": {},
   "outputs": [],
   "source": [
    "def position_aspects(data, dt_data, aspect):\n",
    "    asp_match = []\n",
    "    pos = []\n",
    "    lbls = []\n",
    "    hdls = []\n",
    "    dates = []\n",
    "    \n",
    "    for idx, txtd in enumerate(data):\n",
    "        if isinstance(txtd, str):\n",
    "            txtd = txtd.replace('\\n','')\n",
    "            txtd = txtd.replace('\\t','')\n",
    "            txtd = txtd.replace('\\r','')\n",
    "            txtd = txtd.rstrip()\n",
    "            txtd = txtd.lstrip()\n",
    "            \n",
    "            txtd = re.sub(r\"http\\S+\", \"\", txtd)\n",
    "            txtd = re.sub(' +', ' ', txtd)\n",
    "            \n",
    "            \n",
    "            if len(txtd) < 1:\n",
    "                continue\n",
    "            \n",
    "            txtd = txtd.lower()\n",
    "            \n",
    "            s_idx = txtd.find(aspect)\n",
    "            \n",
    "            if s_idx > -1:\n",
    "                asp_match.append(aspect)\n",
    "                pos.append(str(s_idx) + ',' + str(s_idx + len(aspect)))\n",
    "                lbls.append('positive')\n",
    "                hdls.append(txtd)\n",
    "                dates.append(dt_data[idx])\n",
    "        else:\n",
    "            print(txtd)\n",
    "        #except:\n",
    "        #    continue\n",
    "            \n",
    "    return hdls, asp_match, lbls, pos, dates"
   ]
  },
  {
   "cell_type": "code",
   "execution_count": 14,
   "metadata": {},
   "outputs": [],
   "source": [
    "def write_data(txtd, pos, asp, lbl, dates, path):\n",
    "    \n",
    "    df = pd.DataFrame(\n",
    "    {'headlines': txtd,\n",
    "     'terms': asp,\n",
    "     'dates': dates\n",
    "    })\n",
    "    \n",
    "    \n",
    "    os.makedirs(path, exist_ok=True)\n",
    "    \n",
    "    df.to_csv(path + '/hds.csv', index=False)\n",
    "    \n",
    "    \n",
    "    with open(path + '/review.txt', \"w\") as output:\n",
    "        for row in txtd:\n",
    "            #str_d = str(row.rstrip('\\r\\n'))\n",
    "            output.write(row + '\\n')\n",
    "\n",
    "    with open(path + '/position.txt', \"w\") as output:\n",
    "        for row in pos:\n",
    "            output.write(str(row) + '\\n')\n",
    "\n",
    "    with open(path + '/term.txt', \"w\") as output:\n",
    "        for row in asp:\n",
    "            output.write(str(row) + '\\n')\n",
    "\n",
    "    with open(path + '/label.txt', \"w\") as output:\n",
    "        for row in lbl:\n",
    "            output.write(str(row) + '\\n')\n",
    "            \n",
    "    with open(path + '/dates.txt', \"w\") as output:\n",
    "        for row in dates:\n",
    "            output.write(str(row) + '\\n')"
   ]
  },
  {
   "cell_type": "code",
   "execution_count": 15,
   "metadata": {},
   "outputs": [],
   "source": [
    "def get_cand(yr):\n",
    "    cand1 = ''\n",
    "    cand2 = ''    \n",
    "        \n",
    "    if yr == '2012':\n",
    "        cand1 = 'obama'\n",
    "        cand2 = 'romney'\n",
    "    elif yr == '2016':\n",
    "        cand1 = 'hillary'\n",
    "        cand2 = 'trump'\n",
    "    else:\n",
    "        cand1 = 'biden'\n",
    "        cand2 = 'trump'\n",
    "        \n",
    "    return cand1, cand2"
   ]
  },
  {
   "cell_type": "code",
   "execution_count": 16,
   "metadata": {},
   "outputs": [],
   "source": [
    "def generate_training_data(src_path, t_path, cand):\n",
    "    text_data, dt_data = get_election_data(src_path)\n",
    "    txtdata, aspects, labels, positions, dates = position_aspects(text_data, dt_data, cand)\n",
    "    write_data(txtdata, positions, aspects, labels, dates, t_path)"
   ]
  },
  {
   "cell_type": "code",
   "execution_count": 17,
   "metadata": {},
   "outputs": [],
   "source": [
    "def generate_and_transfer_all():\n",
    "    \n",
    "    for yr in ['2012', '2016', '2020']:\n",
    "        \n",
    "        cand1, cand2 = get_cand(yr)\n",
    "        \n",
    "        for tp in ['candidate', 'economy', 'health', 'immigration', 'environment']:\n",
    "            \n",
    "            path = join('twtdata','completedata', tp, yr)\n",
    "            \n",
    "            cwd = Path.cwd()\n",
    "            \n",
    "            s_path = join(path, cand1 + '.csv')\n",
    "            t_path = join(cwd.parent, 'finalproject', 'data', 'qb', 'twt', tp, yr, cand1)\n",
    "            \n",
    "            generate_training_data(s_path, t_path, cand1)\n",
    "            \n",
    "            s_path = join(path, cand2 + '.csv')\n",
    "            t_path = join(cwd.parent, 'finalproject', 'data', 'qb', 'twt', tp, yr, cand2)\n",
    "            generate_training_data(s_path, t_path, cand2)\n",
    "    "
   ]
  },
  {
   "cell_type": "code",
   "execution_count": 18,
   "metadata": {},
   "outputs": [],
   "source": [
    "generate_and_transfer_all()"
   ]
  },
  {
   "cell_type": "code",
   "execution_count": null,
   "metadata": {},
   "outputs": [],
   "source": []
  },
  {
   "cell_type": "code",
   "execution_count": null,
   "metadata": {},
   "outputs": [],
   "source": []
  },
  {
   "cell_type": "code",
   "execution_count": null,
   "metadata": {},
   "outputs": [],
   "source": []
  },
  {
   "cell_type": "code",
   "execution_count": null,
   "metadata": {},
   "outputs": [],
   "source": []
  },
  {
   "cell_type": "code",
   "execution_count": null,
   "metadata": {},
   "outputs": [],
   "source": []
  },
  {
   "cell_type": "code",
   "execution_count": 8,
   "metadata": {},
   "outputs": [
    {
     "name": "stdout",
     "output_type": "stream",
     "text": [
      "8003\n",
      "7659\n",
      "7659\n",
      "7659\n",
      "7659\n",
      "7659\n"
     ]
    }
   ],
   "source": [
    "path = join('twtdata', 'input', 'candidate', '2012', 'romney')\n",
    "text_data, dt_data = get_election_data(join(path, '2012_romney.csv'))\n",
    "txtdata, aspects, labels, positions, dates = position_aspects(text_data, dt_data, 'romney')\n",
    "print(len(txtdata))\n",
    "print(len(aspects))\n",
    "print(len(labels))\n",
    "print(len(positions))\n",
    "print(len(dates))\n",
    "write_data(txtdata, positions, aspects, labels, dates, path)"
   ]
  },
  {
   "cell_type": "code",
   "execution_count": null,
   "metadata": {},
   "outputs": [],
   "source": []
  }
 ],
 "metadata": {
  "kernelspec": {
   "display_name": "Python 3",
   "language": "python",
   "name": "python3"
  },
  "language_info": {
   "codemirror_mode": {
    "name": "ipython",
    "version": 3
   },
   "file_extension": ".py",
   "mimetype": "text/x-python",
   "name": "python",
   "nbconvert_exporter": "python",
   "pygments_lexer": "ipython3",
   "version": "3.7.6"
  }
 },
 "nbformat": 4,
 "nbformat_minor": 4
}
